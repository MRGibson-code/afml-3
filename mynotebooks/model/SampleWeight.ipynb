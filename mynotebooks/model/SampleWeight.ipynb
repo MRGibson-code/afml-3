{
 "cells": [
  {
   "cell_type": "code",
   "execution_count": 1,
   "metadata": {},
   "outputs": [],
   "source": [
    "%matplotlib inline"
   ]
  },
  {
   "cell_type": "code",
   "execution_count": 2,
   "metadata": {},
   "outputs": [
    {
     "data": {
      "text/plain": [
       "<matplotlib.lines.Line2D at 0x192fe494b70>"
      ]
     },
     "execution_count": 2,
     "metadata": {},
     "output_type": "execute_result"
    },
    {
     "data": {
      "image/png": "[encoded data removed]",
      "text/plain": [
       "<Figure size 720x360 with 1 Axes>"
      ]
     },
     "metadata": {
      "needs_background": "light"
     },
     "output_type": "display_data"
    }
   ],
   "source": [
    "# 样本重叠问题画图\n",
    "import tushare as ts\n",
    "import mpl_finance\n",
    "import matplotlib.pyplot as plt\n",
    "from matplotlib import ticker\n",
    "import numpy as np\n",
    "\n",
    "\n",
    "# 获取数据\n",
    "token = '82f17f80a6f62681bcbf105689d892a9559a4e65af4045adb472eaf0'\n",
    "ts.set_token(token)\n",
    "\n",
    "start_date = \"2014-12-01\"\n",
    "end_date = \"2015-01-01\"\n",
    "\n",
    "df1 = ts.pro_bar('600000.SH', adj='qfq',\n",
    "                 start_date=start_date, end_date=end_date)\n",
    "df1.sort_values(by=\"trade_date\", inplace=True)\n",
    "df1['dates'] = np.arange(0, len(df1))\n",
    "\n",
    "\n",
    "# 画图\n",
    "fig, ax = plt.subplots(figsize=(10, 5))\n",
    "mpl_finance.candlestick_ochl(\n",
    "    ax=ax, quotes=df1[['dates', 'open', 'close', 'high', 'low']].values,\n",
    "    width=0.7,\n",
    "    colorup='r',\n",
    "    colordown='g',\n",
    "    alpha=0.7)\n",
    "\n",
    "date_tickers = df1[\"trade_date\"]\n",
    "\n",
    "\n",
    "def format_date(x, pos):\n",
    "    if x < 0 or x > len(date_tickers)-1:\n",
    "        return ''\n",
    "    return date_tickers[int(x)]\n",
    "\n",
    "\n",
    "ax.xaxis.set_major_formatter(ticker.FuncFormatter(format_date))\n",
    "\n",
    "plt.axvline(x=4, ls=\"-\", c=\"grey\")\n",
    "plt.axvline(x=18, ls=\"-\", c=\"grey\")\n",
    "\n",
    "plt.axvline(x=5, ls=\"-\", c=\"blue\")\n",
    "plt.axvline(x=10, ls=\"-\", c=\"blue\")"
   ]
  },
  {
   "cell_type": "code",
   "execution_count": 3,
   "metadata": {},
   "outputs": [
    {
     "data": {
      "text/html": [
       "<div>\n",
       "<style scoped>\n",
       "    .dataframe tbody tr th:only-of-type {\n",
       "        vertical-align: middle;\n",
       "    }\n",
       "\n",
       "    .dataframe tbody tr th {\n",
       "        vertical-align: top;\n",
       "    }\n",
       "\n",
       "    .dataframe thead th {\n",
       "        text-align: right;\n",
       "    }\n",
       "</style>\n",
       "<table border=\"1\" class=\"dataframe\">\n",
       "  <thead>\n",
       "    <tr style=\"text-align: right;\">\n",
       "      <th></th>\n",
       "      <th>trade_date</th>\n",
       "      <th>FirstTime</th>\n",
       "      <th>return</th>\n",
       "      <th>label</th>\n",
       "    </tr>\n",
       "  </thead>\n",
       "  <tbody>\n",
       "    <tr>\n",
       "      <th>0</th>\n",
       "      <td>2000-02-15</td>\n",
       "      <td>2000-03-14</td>\n",
       "      <td>0.030488</td>\n",
       "      <td>0.0</td>\n",
       "    </tr>\n",
       "    <tr>\n",
       "      <th>1</th>\n",
       "      <td>2000-02-16</td>\n",
       "      <td>2000-03-15</td>\n",
       "      <td>0.049689</td>\n",
       "      <td>0.0</td>\n",
       "    </tr>\n",
       "    <tr>\n",
       "      <th>2</th>\n",
       "      <td>2000-02-17</td>\n",
       "      <td>2000-03-09</td>\n",
       "      <td>0.062893</td>\n",
       "      <td>1.0</td>\n",
       "    </tr>\n",
       "    <tr>\n",
       "      <th>3</th>\n",
       "      <td>2000-02-18</td>\n",
       "      <td>2000-03-17</td>\n",
       "      <td>0.069620</td>\n",
       "      <td>0.0</td>\n",
       "    </tr>\n",
       "    <tr>\n",
       "      <th>4</th>\n",
       "      <td>2000-02-21</td>\n",
       "      <td>2000-03-20</td>\n",
       "      <td>-0.015152</td>\n",
       "      <td>0.0</td>\n",
       "    </tr>\n",
       "  </tbody>\n",
       "</table>\n",
       "</div>"
      ],
      "text/plain": [
       "   trade_date   FirstTime    return  label\n",
       "0  2000-02-15  2000-03-14  0.030488    0.0\n",
       "1  2000-02-16  2000-03-15  0.049689    0.0\n",
       "2  2000-02-17  2000-03-09  0.062893    1.0\n",
       "3  2000-02-18  2000-03-17  0.069620    0.0\n",
       "4  2000-02-21  2000-03-20 -0.015152    0.0"
      ]
     },
     "execution_count": 3,
     "metadata": {},
     "output_type": "execute_result"
    }
   ],
   "source": [
    "import tushare as ts\n",
    "import pandas as pd\n",
    "\n",
    "token = '82f17f80a6f62681bcbf105689d892a9559a4e65af4045adb472eaf0'\n",
    "ts.set_token(token)\n",
    "start_date = \"2000-01-01\"\n",
    "end_date = \"2015-01-01\"\n",
    "\n",
    "df1 = ts.pro_bar('600000.SH', adj='qfq',\n",
    "                 start_date=start_date, end_date=end_date)\n",
    "\n",
    "\n",
    "feature_x = pd.read_csv(\"../datasets/ADF_adjust_train.csv\")\n",
    "feature_y = pd.read_csv(\"../datasets/label_train.csv\")\n",
    "\n",
    "\n",
    "feature_y.head()"
   ]
  },
  {
   "cell_type": "code",
   "execution_count": 4,
   "metadata": {},
   "outputs": [
    {
     "data": {
      "image/png": "[encoded data removed]",
      "text/plain": [
       "<Figure size 432x288 with 1 Axes>"
      ]
     },
     "metadata": {
      "needs_background": "light"
     },
     "output_type": "display_data"
    }
   ],
   "source": [
    "# start_date_list, end_date_list\n",
    "\n",
    "\n",
    "import seaborn as sns\n",
    "\n",
    "\n",
    "def get_independence(sr1, sr2, date_sr):\n",
    "    C = pd.DataFrame()\n",
    "    C[\"date\"] = date_sr\n",
    "    C[\"count\"] = 0\n",
    "    C[\"date\"] = pd.to_datetime(C[\"date\"])\n",
    "    for start_date, end_date in zip(sr1, sr2):\n",
    "        C.loc[(C[\"date\"] > start_date) & (C[\"date\"] <= end_date), \"count\"] += 1\n",
    "    result = pd.DataFrame()\n",
    "    result[\"start_date\"] = sr1\n",
    "    for i, (start_date, end_date) in enumerate(zip(sr1, sr2)):\n",
    "        c = C.loc[(C[\"date\"] > start_date) & (C[\"date\"] <= end_date), \"count\"]\n",
    "        result.loc[i, \"p\"] = ((1/(c+1)).sum())/len(c)\n",
    "    return result\n",
    "\n",
    "\n",
    "independence = get_independence(\n",
    "    feature_y[\"trade_date\"], feature_y[\"FirstTime\"], df1[\"trade_date\"])\n",
    "\n",
    "sns.distplot(independence[\"p\"])\n",
    "plt.xlabel(\"u\")\n",
    "plt.show()"
   ]
  },
  {
   "cell_type": "code",
   "execution_count": 5,
   "metadata": {},
   "outputs": [],
   "source": [
    "import numpy as np\n",
    "\n",
    "# df:trade_date,FirstTime\n",
    "\n",
    "\n",
    "def seqBoostStrap(df, date_list, per_size=100, max_len=None):\n",
    "    result = []\n",
    "    if max_len is None:\n",
    "        max_len = len(df)\n",
    "\n",
    "    start_date_list, end_date_list = [], []\n",
    "\n",
    "    while len(result) < max_len:\n",
    "        prob = pd.DataFrame()\n",
    "        prob[\"date\"] = df[\"trade_date\"]\n",
    "        for i in range(len(df)):\n",
    "            start_date_tmp = df.loc[i, \"trade_date\"]\n",
    "            end_date_tmp = df.loc[i, \"FirstTime\"]\n",
    "            independence = get_independence(\n",
    "                start_date_list+[start_date_tmp], end_date_list+[end_date_tmp], date_list)\n",
    "            # 时间衰减\n",
    "            prob.loc[i, \"p\"] = independence.iloc[-1][\"p\"]*(i+len(df))/len(df)/2\n",
    "        prob[\"p\"] /= sum(prob[\"p\"])\n",
    "        p = np.random.choice(df[\"trade_date\"], size=per_size,\n",
    "                             replace=True, p=prob[\"p\"])\n",
    "        result = np.append(result, p)\n",
    "    return result\n",
    "\n",
    "\n",
    "result = seqBoostStrap(feature_y, df1[\"trade_date\"])"
   ]
  },
  {
   "cell_type": "code",
   "execution_count": 6,
   "metadata": {},
   "outputs": [
    {
     "data": {
      "text/plain": [
       "array(['2014-01-10', '2011-08-23', '2001-08-31', ..., '2013-06-26',\n",
       "       '2001-05-17', '2013-05-17'], dtype=object)"
      ]
     },
     "execution_count": 6,
     "metadata": {},
     "output_type": "execute_result"
    }
   ],
   "source": [
    "result"
   ]
  },
  {
   "cell_type": "code",
   "execution_count": null,
   "metadata": {},
   "outputs": [],
   "source": []
  }
 ],
 "metadata": {
  "kernelspec": {
   "display_name": "Python 3",
   "language": "python",
   "name": "python3"
  },
  "language_info": {
   "codemirror_mode": {
    "name": "ipython",
    "version": 3
   },
   "file_extension": ".py",
   "mimetype": "text/x-python",
   "name": "python",
   "nbconvert_exporter": "python",
   "pygments_lexer": "ipython3",
   "version": "3.7.3"
  }
 },
 "nbformat": 4,
 "nbformat_minor": 2
}
