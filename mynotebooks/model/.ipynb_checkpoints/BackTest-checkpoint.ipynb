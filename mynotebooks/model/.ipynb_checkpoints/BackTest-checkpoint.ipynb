{
 "cells": [
  {
   "cell_type": "code",
   "execution_count": 1,
   "metadata": {},
   "outputs": [
    {
     "data": {
      "text/html": [
       "<div>\n",
       "<style scoped>\n",
       "    .dataframe tbody tr th:only-of-type {\n",
       "        vertical-align: middle;\n",
       "    }\n",
       "\n",
       "    .dataframe tbody tr th {\n",
       "        vertical-align: top;\n",
       "    }\n",
       "\n",
       "    .dataframe thead th {\n",
       "        text-align: right;\n",
       "    }\n",
       "</style>\n",
       "<table border=\"1\" class=\"dataframe\">\n",
       "  <thead>\n",
       "    <tr style=\"text-align: right;\">\n",
       "      <th></th>\n",
       "      <th>trade_date</th>\n",
       "      <th>close</th>\n",
       "      <th>end_date</th>\n",
       "      <th>UpperBound</th>\n",
       "      <th>LowerBound</th>\n",
       "      <th>y_primary</th>\n",
       "      <th>pred_y</th>\n",
       "      <th>pred_p</th>\n",
       "    </tr>\n",
       "  </thead>\n",
       "  <tbody>\n",
       "    <tr>\n",
       "      <th>0</th>\n",
       "      <td>2016-07-01</td>\n",
       "      <td>11.60</td>\n",
       "      <td>2016-07-29</td>\n",
       "      <td>0.025154</td>\n",
       "      <td>-0.021332</td>\n",
       "      <td>-1.0</td>\n",
       "      <td>1</td>\n",
       "      <td>0.488924</td>\n",
       "    </tr>\n",
       "    <tr>\n",
       "      <th>1</th>\n",
       "      <td>2016-07-04</td>\n",
       "      <td>11.61</td>\n",
       "      <td>2016-08-01</td>\n",
       "      <td>0.023932</td>\n",
       "      <td>-0.020302</td>\n",
       "      <td>-1.0</td>\n",
       "      <td>1</td>\n",
       "      <td>0.499259</td>\n",
       "    </tr>\n",
       "    <tr>\n",
       "      <th>2</th>\n",
       "      <td>2016-07-05</td>\n",
       "      <td>11.51</td>\n",
       "      <td>2016-08-02</td>\n",
       "      <td>0.022776</td>\n",
       "      <td>-0.021130</td>\n",
       "      <td>-1.0</td>\n",
       "      <td>1</td>\n",
       "      <td>0.493415</td>\n",
       "    </tr>\n",
       "    <tr>\n",
       "      <th>3</th>\n",
       "      <td>2016-07-06</td>\n",
       "      <td>11.40</td>\n",
       "      <td>2016-08-03</td>\n",
       "      <td>0.021635</td>\n",
       "      <td>-0.021975</td>\n",
       "      <td>-1.0</td>\n",
       "      <td>1</td>\n",
       "      <td>0.498037</td>\n",
       "    </tr>\n",
       "    <tr>\n",
       "      <th>4</th>\n",
       "      <td>2016-07-07</td>\n",
       "      <td>11.35</td>\n",
       "      <td>2016-08-04</td>\n",
       "      <td>0.020324</td>\n",
       "      <td>-0.021469</td>\n",
       "      <td>-1.0</td>\n",
       "      <td>1</td>\n",
       "      <td>0.485631</td>\n",
       "    </tr>\n",
       "  </tbody>\n",
       "</table>\n",
       "</div>"
      ],
      "text/plain": [
       "  trade_date  close    end_date  UpperBound  LowerBound  y_primary  pred_y  \\\n",
       "0 2016-07-01  11.60  2016-07-29    0.025154   -0.021332       -1.0       1   \n",
       "1 2016-07-04  11.61  2016-08-01    0.023932   -0.020302       -1.0       1   \n",
       "2 2016-07-05  11.51  2016-08-02    0.022776   -0.021130       -1.0       1   \n",
       "3 2016-07-06  11.40  2016-08-03    0.021635   -0.021975       -1.0       1   \n",
       "4 2016-07-07  11.35  2016-08-04    0.020324   -0.021469       -1.0       1   \n",
       "\n",
       "     pred_p  \n",
       "0  0.488924  \n",
       "1  0.499259  \n",
       "2  0.493415  \n",
       "3  0.498037  \n",
       "4  0.485631  "
      ]
     },
     "execution_count": 1,
     "metadata": {},
     "output_type": "execute_result"
    }
   ],
   "source": [
    "import pandas as pd\n",
    "import pickle\n",
    "from sklearn.ensemble import RandomForestClassifier\n",
    "\n",
    "with open(\"../datasets/myforest.pkl\", \"rb+\") as f:\n",
    "    myforest = pickle.load(f)\n",
    "\n",
    "df = pd.read_csv(\"../datasets/backtest.csv\")\n",
    "df[\"trade_date\"] = pd.to_datetime(df[\"trade_date\"])\n",
    "df.head()"
   ]
  },
  {
   "cell_type": "code",
   "execution_count": 2,
   "metadata": {},
   "outputs": [],
   "source": [
    "import matplotlib.pyplot as plt\n",
    "import seaborn as sns\n",
    "\n",
    "%matplotlib inline"
   ]
  },
  {
   "cell_type": "code",
   "execution_count": 3,
   "metadata": {},
   "outputs": [
    {
     "name": "stderr",
     "output_type": "stream",
     "text": [
      "f:\\mypython\\python3.7\\lib\\site-packages\\pandas\\plotting\\_converter.py:129: FutureWarning: Using an implicitly registered datetime converter for a matplotlib plotting method. The converter was registered by pandas on import. Future versions of pandas will require you to explicitly register matplotlib converters.\n",
      "\n",
      "To register the converters:\n",
      "\t>>> from pandas.plotting import register_matplotlib_converters\n",
      "\t>>> register_matplotlib_converters()\n",
      "  warnings.warn(msg, FutureWarning)\n"
     ]
    },
    {
     "data": {
      "text/plain": [
       "(array([736208., 736330., 736450., 736573., 736695., 736815., 736938.,\n",
       "        737060., 737180., 737303.]), <a list of 10 Text xticklabel objects>)"
      ]
     },
     "execution_count": 3,
     "metadata": {},
     "output_type": "execute_result"
    },
    {
     "data": {
      "image/png": "[encoded data removed]",
      "text/plain": [
       "<Figure size 432x288 with 1 Axes>"
      ]
     },
     "metadata": {},
     "output_type": "display_data"
    }
   ],
   "source": [
    "fund = 10000\n",
    "equity = fund\n",
    "stock_num = 0\n",
    "\n",
    "df.loc[0, \"equity_simple\"] = equity\n",
    "for i in range(len(df)-1):\n",
    "    df.loc[i, \"equity_simple\"] = stock_num*df.loc[i, \"close\"] + fund\n",
    "    if df.loc[i, \"pred_y\"] == 1 and df.loc[i, \"y_primary\"] == 1 and stock_num == 0:\n",
    "        stock_num = fund/df.loc[i+1, \"close\"]\n",
    "        fund = 0\n",
    "    if df.loc[i, \"pred_y\"] == 1 and df.loc[i, \"y_primary\"] == -1 and stock_num != 0:\n",
    "        fund = stock_num*df.loc[i+1, \"close\"]\n",
    "        stock_num = 0\n",
    "\n",
    "sns.set()\n",
    "plt.plot(df[\"trade_date\"][:-1], df[\"equity_simple\"][:-1])\n",
    "plt.xticks(rotation=45)"
   ]
  },
  {
   "cell_type": "code",
   "execution_count": 4,
   "metadata": {},
   "outputs": [
    {
     "data": {
      "text/plain": [
       "(array([736208., 736330., 736450., 736573., 736695., 736815., 736938.,\n",
       "        737060., 737180., 737303.]), <a list of 10 Text xticklabel objects>)"
      ]
     },
     "execution_count": 4,
     "metadata": {},
     "output_type": "execute_result"
    },
    {
     "data": {
      "image/png": "[encoded data removed]",
      "text/plain": [
       "<Figure size 432x288 with 1 Axes>"
      ]
     },
     "metadata": {},
     "output_type": "display_data"
    }
   ],
   "source": [
    "# 策略二\n",
    "fund = 10000\n",
    "equity = fund\n",
    "stock_num = 0\n",
    "start_idx = None\n",
    "\n",
    "df.loc[0, \"equity_simple\"] = equity\n",
    "for i in range(len(df)-1):\n",
    "    df.loc[i, \"equity_simple\"] = stock_num*df.loc[i, \"close\"] + fund\n",
    "    if stock_num != 0:\n",
    "        cum_return = (df.loc[i, \"close\"]-cost_price)/cost_price\n",
    "        if cum_return > Upperbound or cum_return < Lowerbound:\n",
    "            fund = stock_num*df.loc[i+1, \"close\"]\n",
    "            stock_num = 0\n",
    "            continue\n",
    "\n",
    "    if df.loc[i, \"pred_y\"] == 1 and df.loc[i, \"y_primary\"] == 1 and stock_num == 0:\n",
    "        stock_num = fund/df.loc[i+1, \"close\"]\n",
    "        fund = 0\n",
    "        cost_price = df.loc[i+1, \"close\"]\n",
    "        Upperbound = df.loc[i, \"UpperBound\"]\n",
    "        Lowerbound = df.loc[i, \"LowerBound\"]\n",
    "        start_idx = i\n",
    "        continue\n",
    "\n",
    "    if start_idx != None and i-start_idx == 20:\n",
    "        stock_num = fund/df.loc[i+1, \"close\"]\n",
    "        fund = 0\n",
    "        cost_price = df.loc[i+1, \"close\"]\n",
    "        continue\n",
    "\n",
    "sns.set()\n",
    "plt.plot(df[\"trade_date\"][:-1], df[\"equity_simple\"][:-1])\n",
    "plt.xticks(rotation=45)"
   ]
  },
  {
   "cell_type": "code",
   "execution_count": 5,
   "metadata": {},
   "outputs": [
    {
     "data": {
      "text/plain": [
       "(array([736208., 736330., 736450., 736573., 736695., 736815., 736938.,\n",
       "        737060., 737180., 737303.]), <a list of 10 Text xticklabel objects>)"
      ]
     },
     "execution_count": 5,
     "metadata": {},
     "output_type": "execute_result"
    },
    {
     "data": {
      "image/png": "[encoded data removed]",
      "text/plain": [
       "<Figure size 432x288 with 1 Axes>"
      ]
     },
     "metadata": {},
     "output_type": "display_data"
    }
   ],
   "source": [
    "# 策略三\n",
    "fund = 10000\n",
    "equity = fund\n",
    "stock_num = 0\n",
    "start_idx = None\n",
    "\n",
    "df.loc[0, \"equity_simple\"] = equity\n",
    "for i in range(len(df)-1):\n",
    "    df.loc[i, \"equity_simple\"] = stock_num*df.loc[i, \"close\"] + fund\n",
    "    if stock_num != 0:\n",
    "        cum_return = (df.loc[i, \"close\"]-cost_price)/cost_price\n",
    "        if cum_return > Upperbound or cum_return < Lowerbound:\n",
    "            fund = stock_num*df.loc[i+1, \"close\"]\n",
    "            stock_num = 0\n",
    "            continue\n",
    "\n",
    "    if df.loc[i, \"pred_p\"] < 0.485 and df.loc[i, \"y_primary\"] == 1 and stock_num == 0:\n",
    "        stock_num = fund/df.loc[i+1, \"close\"]\n",
    "        fund = 0\n",
    "        cost_price = df.loc[i+1, \"close\"]\n",
    "        Upperbound = df.loc[i, \"UpperBound\"]\n",
    "        Lowerbound = df.loc[i, \"LowerBound\"]\n",
    "        continue\n",
    "\n",
    "    if start_idx != None and i-start_idx == 20:\n",
    "        stock_num = fund/df.loc[i+1, \"close\"]\n",
    "        fund = 0\n",
    "        cost_price = df.loc[i+1, \"close\"]\n",
    "        continue\n",
    "\n",
    "sns.set()\n",
    "plt.plot(df[\"trade_date\"][:-1], df[\"equity_simple\"][:-1])\n",
    "plt.xticks(rotation=45)"
   ]
  },
  {
   "cell_type": "code",
   "execution_count": 6,
   "metadata": {},
   "outputs": [
    {
     "data": {
      "text/plain": [
       "(array([736208., 736330., 736450., 736573., 736695., 736815., 736938.,\n",
       "        737060., 737180., 737303.]), <a list of 10 Text xticklabel objects>)"
      ]
     },
     "execution_count": 6,
     "metadata": {},
     "output_type": "execute_result"
    },
    {
     "data": {
      "image/png": "[encoded data removed]",
      "text/plain": [
       "<Figure size 432x288 with 1 Axes>"
      ]
     },
     "metadata": {},
     "output_type": "display_data"
    }
   ],
   "source": [
    "# 策略-考虑滑点\n",
    "fund = 10000\n",
    "equity = fund\n",
    "stock_num = 0\n",
    "start_idx = None\n",
    "\n",
    "# 滑点，手续费\n",
    "slip_rate = 0.02\n",
    "commission_rate = 0.003\n",
    "\n",
    "df.loc[0, \"equity_simple\"] = equity\n",
    "for i in range(len(df)-1):\n",
    "    df.loc[i, \"equity_simple\"] = stock_num*df.loc[i, \"close\"] + fund\n",
    "    if stock_num != 0:\n",
    "        cum_return = (df.loc[i, \"close\"]-cost_price)/cost_price\n",
    "        if cum_return > Upperbound or cum_return < Lowerbound:\n",
    "            fund = stock_num*df.loc[i+1, \"close\"]\n",
    "            stock_num = 0\n",
    "            continue\n",
    "\n",
    "    if df.loc[i, \"pred_p\"] < 0.487 and df.loc[i, \"y_primary\"] == 1 and stock_num == 0:\n",
    "\n",
    "        stock_num = fund/(df.loc[i+1, \"close\"]+slip_rate)/(1+commission_rate)\n",
    "        fund = 0\n",
    "        cost_price = df.loc[i+1, \"close\"]\n",
    "        Upperbound = df.loc[i, \"UpperBound\"]\n",
    "        Lowerbound = df.loc[i, \"LowerBound\"]\n",
    "        continue\n",
    "\n",
    "    if start_idx != None and i-start_idx == 20:\n",
    "        stock_num = fund/df.loc[i+1, \"close\"]\n",
    "        fund = 0\n",
    "        cost_price = df.loc[i+1, \"close\"]\n",
    "        continue\n",
    "\n",
    "sns.set()\n",
    "plt.plot(df[\"trade_date\"][:-1], df[\"equity_simple\"][:-1])\n",
    "plt.xticks(rotation=45)"
   ]
  },
  {
   "cell_type": "code",
   "execution_count": 7,
   "metadata": {},
   "outputs": [
    {
     "data": {
      "text/html": [
       "<div>\n",
       "<style scoped>\n",
       "    .dataframe tbody tr th:only-of-type {\n",
       "        vertical-align: middle;\n",
       "    }\n",
       "\n",
       "    .dataframe tbody tr th {\n",
       "        vertical-align: top;\n",
       "    }\n",
       "\n",
       "    .dataframe thead th {\n",
       "        text-align: right;\n",
       "    }\n",
       "</style>\n",
       "<table border=\"1\" class=\"dataframe\">\n",
       "  <thead>\n",
       "    <tr style=\"text-align: right;\">\n",
       "      <th></th>\n",
       "      <th>trade_date</th>\n",
       "      <th>trade_or_not</th>\n",
       "    </tr>\n",
       "  </thead>\n",
       "  <tbody>\n",
       "    <tr>\n",
       "      <th>0</th>\n",
       "      <td>2019-12-31</td>\n",
       "      <td>1</td>\n",
       "    </tr>\n",
       "    <tr>\n",
       "      <th>1</th>\n",
       "      <td>2019-12-30</td>\n",
       "      <td>1</td>\n",
       "    </tr>\n",
       "    <tr>\n",
       "      <th>2</th>\n",
       "      <td>2019-12-27</td>\n",
       "      <td>1</td>\n",
       "    </tr>\n",
       "    <tr>\n",
       "      <th>3</th>\n",
       "      <td>2019-12-26</td>\n",
       "      <td>1</td>\n",
       "    </tr>\n",
       "    <tr>\n",
       "      <th>4</th>\n",
       "      <td>2019-12-25</td>\n",
       "      <td>1</td>\n",
       "    </tr>\n",
       "  </tbody>\n",
       "</table>\n",
       "</div>"
      ],
      "text/plain": [
       "  trade_date  trade_or_not\n",
       "0 2019-12-31             1\n",
       "1 2019-12-30             1\n",
       "2 2019-12-27             1\n",
       "3 2019-12-26             1\n",
       "4 2019-12-25             1"
      ]
     },
     "execution_count": 7,
     "metadata": {},
     "output_type": "execute_result"
    }
   ],
   "source": [
    "import tushare as ts\n",
    "import pandas as pd\n",
    "import numpy as np\n",
    "\n",
    "token = '82f17f80a6f62681bcbf105689d892a9559a4e65af4045adb472eaf0'\n",
    "ts.set_token(token)\n",
    "\n",
    "start_date = \"2016-01-01\"\n",
    "end_date = \"2020-01-01\"\n",
    "\n",
    "df1 = ts.pro_bar('600000.SH', adj='qfq',\n",
    "                 start_date=start_date, end_date=end_date)\n",
    "df1[\"return_rate\"] = df1[\"pct_chg\"]/100\n",
    "df1[\"trade_or_not\"] = (np.abs(df1[\"return_rate\"]) < 0.098).astype(int)\n",
    "df1[\"trade_date\"] = pd.to_datetime(df1[\"trade_date\"])\n",
    "df1 = df1[[\"trade_date\", \"trade_or_not\"]]\n",
    "df1.head()"
   ]
  },
  {
   "cell_type": "code",
   "execution_count": 8,
   "metadata": {},
   "outputs": [
    {
     "data": {
      "text/html": [
       "<div>\n",
       "<style scoped>\n",
       "    .dataframe tbody tr th:only-of-type {\n",
       "        vertical-align: middle;\n",
       "    }\n",
       "\n",
       "    .dataframe tbody tr th {\n",
       "        vertical-align: top;\n",
       "    }\n",
       "\n",
       "    .dataframe thead th {\n",
       "        text-align: right;\n",
       "    }\n",
       "</style>\n",
       "<table border=\"1\" class=\"dataframe\">\n",
       "  <thead>\n",
       "    <tr style=\"text-align: right;\">\n",
       "      <th></th>\n",
       "      <th>trade_date</th>\n",
       "      <th>close_sh</th>\n",
       "    </tr>\n",
       "  </thead>\n",
       "  <tbody>\n",
       "    <tr>\n",
       "      <th>0</th>\n",
       "      <td>2019-12-31</td>\n",
       "      <td>3050.1240</td>\n",
       "    </tr>\n",
       "    <tr>\n",
       "      <th>1</th>\n",
       "      <td>2019-12-30</td>\n",
       "      <td>3040.0239</td>\n",
       "    </tr>\n",
       "    <tr>\n",
       "      <th>2</th>\n",
       "      <td>2019-12-27</td>\n",
       "      <td>3005.0355</td>\n",
       "    </tr>\n",
       "    <tr>\n",
       "      <th>3</th>\n",
       "      <td>2019-12-26</td>\n",
       "      <td>3007.3546</td>\n",
       "    </tr>\n",
       "    <tr>\n",
       "      <th>4</th>\n",
       "      <td>2019-12-25</td>\n",
       "      <td>2981.8805</td>\n",
       "    </tr>\n",
       "  </tbody>\n",
       "</table>\n",
       "</div>"
      ],
      "text/plain": [
       "  trade_date   close_sh\n",
       "0 2019-12-31  3050.1240\n",
       "1 2019-12-30  3040.0239\n",
       "2 2019-12-27  3005.0355\n",
       "3 2019-12-26  3007.3546\n",
       "4 2019-12-25  2981.8805"
      ]
     },
     "execution_count": 8,
     "metadata": {},
     "output_type": "execute_result"
    }
   ],
   "source": [
    "sh_res = ts.pro_bar(ts_code='000001.SH', adj='qfq', asset=\"I\",\n",
    "                    start_date=start_date, end_date=end_date)\n",
    "sh_res[\"trade_date\"] = pd.to_datetime(sh_res[\"trade_date\"])\n",
    "sh_res = sh_res[[\"trade_date\", \"close\"]]\n",
    "sh_res.rename(columns={\"close\": \"close_sh\"}, inplace=True)\n",
    "sh_res.head()"
   ]
  },
  {
   "cell_type": "code",
   "execution_count": 9,
   "metadata": {},
   "outputs": [
    {
     "data": {
      "text/html": [
       "<div>\n",
       "<style scoped>\n",
       "    .dataframe tbody tr th:only-of-type {\n",
       "        vertical-align: middle;\n",
       "    }\n",
       "\n",
       "    .dataframe tbody tr th {\n",
       "        vertical-align: top;\n",
       "    }\n",
       "\n",
       "    .dataframe thead th {\n",
       "        text-align: right;\n",
       "    }\n",
       "</style>\n",
       "<table border=\"1\" class=\"dataframe\">\n",
       "  <thead>\n",
       "    <tr style=\"text-align: right;\">\n",
       "      <th></th>\n",
       "      <th>trade_date</th>\n",
       "      <th>close</th>\n",
       "      <th>end_date</th>\n",
       "      <th>UpperBound</th>\n",
       "      <th>LowerBound</th>\n",
       "      <th>y_primary</th>\n",
       "      <th>pred_y</th>\n",
       "      <th>pred_p</th>\n",
       "      <th>equity_simple</th>\n",
       "      <th>trade_or_not</th>\n",
       "      <th>close_sh</th>\n",
       "    </tr>\n",
       "  </thead>\n",
       "  <tbody>\n",
       "    <tr>\n",
       "      <th>0</th>\n",
       "      <td>2016-07-01</td>\n",
       "      <td>11.60</td>\n",
       "      <td>2016-07-29</td>\n",
       "      <td>0.025154</td>\n",
       "      <td>-0.021332</td>\n",
       "      <td>-1.0</td>\n",
       "      <td>1</td>\n",
       "      <td>0.488924</td>\n",
       "      <td>10000.0</td>\n",
       "      <td>1</td>\n",
       "      <td>2932.476</td>\n",
       "    </tr>\n",
       "    <tr>\n",
       "      <th>1</th>\n",
       "      <td>2016-07-04</td>\n",
       "      <td>11.61</td>\n",
       "      <td>2016-08-01</td>\n",
       "      <td>0.023932</td>\n",
       "      <td>-0.020302</td>\n",
       "      <td>-1.0</td>\n",
       "      <td>1</td>\n",
       "      <td>0.499259</td>\n",
       "      <td>10000.0</td>\n",
       "      <td>1</td>\n",
       "      <td>2988.604</td>\n",
       "    </tr>\n",
       "    <tr>\n",
       "      <th>2</th>\n",
       "      <td>2016-07-05</td>\n",
       "      <td>11.51</td>\n",
       "      <td>2016-08-02</td>\n",
       "      <td>0.022776</td>\n",
       "      <td>-0.021130</td>\n",
       "      <td>-1.0</td>\n",
       "      <td>1</td>\n",
       "      <td>0.493415</td>\n",
       "      <td>10000.0</td>\n",
       "      <td>1</td>\n",
       "      <td>3006.392</td>\n",
       "    </tr>\n",
       "    <tr>\n",
       "      <th>3</th>\n",
       "      <td>2016-07-06</td>\n",
       "      <td>11.40</td>\n",
       "      <td>2016-08-03</td>\n",
       "      <td>0.021635</td>\n",
       "      <td>-0.021975</td>\n",
       "      <td>-1.0</td>\n",
       "      <td>1</td>\n",
       "      <td>0.498037</td>\n",
       "      <td>10000.0</td>\n",
       "      <td>1</td>\n",
       "      <td>3017.292</td>\n",
       "    </tr>\n",
       "    <tr>\n",
       "      <th>4</th>\n",
       "      <td>2016-07-07</td>\n",
       "      <td>11.35</td>\n",
       "      <td>2016-08-04</td>\n",
       "      <td>0.020324</td>\n",
       "      <td>-0.021469</td>\n",
       "      <td>-1.0</td>\n",
       "      <td>1</td>\n",
       "      <td>0.485631</td>\n",
       "      <td>10000.0</td>\n",
       "      <td>1</td>\n",
       "      <td>3016.847</td>\n",
       "    </tr>\n",
       "  </tbody>\n",
       "</table>\n",
       "</div>"
      ],
      "text/plain": [
       "  trade_date  close    end_date  UpperBound  LowerBound  y_primary  pred_y  \\\n",
       "0 2016-07-01  11.60  2016-07-29    0.025154   -0.021332       -1.0       1   \n",
       "1 2016-07-04  11.61  2016-08-01    0.023932   -0.020302       -1.0       1   \n",
       "2 2016-07-05  11.51  2016-08-02    0.022776   -0.021130       -1.0       1   \n",
       "3 2016-07-06  11.40  2016-08-03    0.021635   -0.021975       -1.0       1   \n",
       "4 2016-07-07  11.35  2016-08-04    0.020324   -0.021469       -1.0       1   \n",
       "\n",
       "     pred_p  equity_simple  trade_or_not  close_sh  \n",
       "0  0.488924        10000.0             1  2932.476  \n",
       "1  0.499259        10000.0             1  2988.604  \n",
       "2  0.493415        10000.0             1  3006.392  \n",
       "3  0.498037        10000.0             1  3017.292  \n",
       "4  0.485631        10000.0             1  3016.847  "
      ]
     },
     "execution_count": 9,
     "metadata": {},
     "output_type": "execute_result"
    }
   ],
   "source": [
    "df_all = pd.merge(df, df1, on=\"trade_date\", how=\"inner\")\n",
    "df_all = pd.merge(df_all, sh_res, on=\"trade_date\", how=\"inner\")\n",
    "df_all.head()"
   ]
  },
  {
   "cell_type": "code",
   "execution_count": 10,
   "metadata": {},
   "outputs": [
    {
     "data": {
      "image/png": "[encoded data removed]",
      "text/plain": [
       "<Figure size 432x288 with 1 Axes>"
      ]
     },
     "metadata": {},
     "output_type": "display_data"
    }
   ],
   "source": [
    "df_all[\"close_sh\"] /= df_all.loc[0, \"close_sh\"]\n",
    "df_all[\"equity_simple\"] /= df_all.loc[0, \"equity_simple\"]\n",
    "\n",
    "df_all['close_sh'] = (df_all['close'] / df_all.iloc[0]['close'])[1:]\n",
    "df_all['close_sh'] = df_all['close_sh'].shift(-1)\n",
    "\n",
    "max_withdraw = df_all['equity_simple'] - \\\n",
    "    df_all['equity_simple'].expanding().max()\n",
    "max_withdraw_rate = -1 * max_withdraw / \\\n",
    "    df_all['equity_simple'].expanding().max()\n",
    "\n",
    "plt.rcParams['font.sans-serif'] = ['SimHei']\n",
    "fig = plt.figure()\n",
    "ax1 = fig.add_subplot(1, 1, 1)\n",
    "ax1p1 = ax1.plot(df_all['trade_date'],\n",
    "                 df_all['close_sh'], c='r', label='上证指数')\n",
    "ax1p2 = ax1.plot(df_all['trade_date'],\n",
    "                 df_all['equity_simple'], c='y', label='我的策略')\n",
    "ax1.grid(axis='both', c='gray', linestyle='-.')\n",
    "ax1.set_xlabel('日期')\n",
    "ax1.set_ylabel('资金曲线')\n",
    "ax1.set_title('我的策略')\n",
    "\n",
    "# ax2 = ax1.twinx()\n",
    "# ax2b1 = ax2.plot(df_all['trade_date'],\n",
    "#                  max_withdraw_rate, label='策略最大回撤率', c='b', alpha=.25)\n",
    "# ax2f1 = ax2.fill_between(\n",
    "#     df_all['trade_date'], max_withdraw_rate, 0, facecolor='b', interpolate=True, alpha=.25)\n",
    "# ax2.set_ylabel('回撤率')\n",
    "\n",
    "lns = ax1p1 + ax1p2 \n",
    "legends = [lines.get_label() for lines in lns]\n",
    "\n",
    "ax1.legend(lns, legends)\n",
    "\n",
    "plt.tight_layout()\n",
    "plt.xticks(rotation=45)\n",
    "\n",
    "plt.show()"
   ]
  }
 ],
 "metadata": {
  "kernelspec": {
   "display_name": "Python 3",
   "language": "python",
   "name": "python3"
  },
  "language_info": {
   "codemirror_mode": {
    "name": "ipython",
    "version": 3
   },
   "file_extension": ".py",
   "mimetype": "text/x-python",
   "name": "python",
   "nbconvert_exporter": "python",
   "pygments_lexer": "ipython3",
   "version": "3.7.4"
  }
 },
 "nbformat": 4,
 "nbformat_minor": 2
}
